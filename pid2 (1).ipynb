{
 "cells": [
  {
   "cell_type": "code",
   "execution_count": 3,
   "id": "0d8d7210-35f0-43c5-9f5c-043fda9262a9",
   "metadata": {},
   "outputs": [],
   "source": [
    "import numpy as np\n",
    "import matplotlib.pyplot as plt\n",
    "from scipy.integrate import odeint\n",
    "from IPython.display import display"
   ]
  },
  {
   "cell_type": "code",
   "execution_count": 23,
   "id": "ae7ba878-f8d5-443a-9e5c-26a91c68c040",
   "metadata": {},
   "outputs": [],
   "source": [
    "n = 100 # time points to plot\n",
    "tf = 500# final time\n",
    "SP_start = 25 # time of set point change\n",
    "\n",
    "def process(y,t,u):\n",
    "    K = 4.0\n",
    "    taup = 3.0\n",
    "    thetap = 1.0\n",
    "    if t<(thetap+SP_start):\n",
    "        dydt = 0.0  # time delay\n",
    "    else:\n",
    "        dydt = (1.0/taup) * (-y + K * u)\n",
    "    return dydt"
   ]
  },
  {
   "cell_type": "code",
   "execution_count": 24,
   "id": "6bf00b13-c917-4773-af6e-05b60ee1e77b",
   "metadata": {},
   "outputs": [],
   "source": [
    "# Algorithm of PID\n",
    "def pidPlot(kp,ki,kd):\n",
    "    t = np.linspace(0,tf,n) # create time vector\n",
    "    P= np.zeros(n)          # initialize proportional term\n",
    "    I = np.zeros(n)         # initialize integral term\n",
    "    D = np.zeros(n)         # initialize derivative term\n",
    "    e = np.zeros(n)         # initialize error\n",
    "    OP = np.zeros(n)        # initialize controller output\n",
    "    PV = np.zeros(n)        # initialize process variable\n",
    "    \n",
    "    \n",
    "    \n",
    "    \n",
    "#   Setting a setfunction to follow\n",
    "    SP = np.zeros(n)        # initialize setpoint\n",
    "    #SP_step = int(SP_start/(tf/(n-1))+1) # setpoint start\n",
    "    SP[0:25] = 0.0     # define setpoint\n",
    "    SP[25:60] = 4    # step up\n",
    "    SP[60:n] = 2\n",
    "    y0 = 0.0                # initial condition\n",
    "    \n",
    "    \n",
    "\n",
    "#   loop through all time steps\n",
    "    for i in range(1,n):\n",
    "        # simulate process for one time step\n",
    "        ts = [t[i-1],t[i]]         # time interval\n",
    "        \n",
    "#       Calling the process to calculate\n",
    "        y = odeint(process,y0,ts,args=(OP[i-1],))  # compute next step\n",
    "        y0 = y[1]                  # record new initial condition\n",
    "#       calculate new OP with PID\n",
    "        PV[i] = y[1]               # record PV\n",
    "        e[i] = SP[i] - PV[i]       # calculate error = SP - PV\n",
    "        dt = t[i] - t[i-1]         # calculate time step\n",
    "        P[i] = kp * e[i]           # calculate proportional term\n",
    "        I[i] = I[i-1] + ki * e[i] * dt  # calculate integral term\n",
    "        D[i] = kd * (PV[i]-PV[i-1])/dt # calculate derivative term\n",
    "        OP[i] = P[i] + I[i] + D[i] # calculate new controller output\n",
    "        \n",
    "#   Plot PID response\n",
    "    plt.figure()\n",
    "\n",
    "# Setpoint (SP)    &   Process Variable (PV)\n",
    "    plt.plot(t,SP,'k',linewidth=2,label='Setpoint (SP)')\n",
    "    plt.plot(t,PV,'r',linewidth=2,label='Process Variable (PV)')\n",
    "    #plt.plot(t,OP,'b--',linewidth=2,label='Controller Output (OP)')\n",
    "    plt.plot(t,e,'m--',linewidth=2,label='Error (e=SP-PV)')\n",
    "    plt.legend()\n",
    "    plt.xlabel('Time')\n",
    "    plt.ylabel('Temerature')\n",
    "    plt.grid()\n",
    "    plt.savefig(\"pid1.png\")\n",
    "    \n",
    "\n",
    "    \n",
    "    \n",
    "# P,I and D component\n",
    "    plt.figure()\n",
    "    plt.plot(t,P,'r-',linewidth=2,label=r'Proportional = $K_c \\; e(t)$')\n",
    "    plt.plot(t,I,'g-',linewidth=2,label=r'Integral = $\\frac{K_c}{\\tau_I} \\int_{i=0}^{n_t} e(t) \\; dt $')\n",
    "    plt.plot(t,D,'b-',linewidth=2,label=r'Derivative = $-K_c \\tau_D \\frac{d(PV)}{dt}$')   \n",
    "    plt.xlabel('Time')\n",
    "    plt.ylabel('Temerature')\n",
    "    plt.legend(loc='best')\n",
    "    plt.grid()\n",
    "    plt.savefig(\"p_i_d.png\")\n"
   ]
  },
  {
   "cell_type": "code",
   "execution_count": 25,
   "id": "2fee7032-7489-4521-9126-293eca1020b7",
   "metadata": {},
   "outputs": [
    {
     "data": {
      "application/vnd.jupyter.widget-view+json": {
       "model_id": "6eecefd0408b4776b9ae644b295af38e",
       "version_major": 2,
       "version_minor": 0
      },
      "text/plain": [
       "interactive(children=(FloatSlider(value=0.15, description='kp', max=1.0, min=-0.2, step=0.05), FloatSlider(val…"
      ]
     },
     "metadata": {},
     "output_type": "display_data"
    },
    {
     "data": {
      "text/plain": [
       "<function __main__.pidPlot(kp, ki, kd)>"
      ]
     },
     "execution_count": 25,
     "metadata": {},
     "output_type": "execute_result"
    }
   ],
   "source": [
    "import ipywidgets as wg    \n",
    "Kp_slide = wg.FloatSlider(value=0.15,min=-0.2,max=1.0,step=0.05)\n",
    "ki_slide = wg.FloatSlider(value=0.06,min=0.0,max=0.5,step=0.01)\n",
    "kd_slide = wg.FloatSlider(value=0.18,min=0.0,max=1,step=0.01)\n",
    "wg.interact(pidPlot, kp=Kp_slide, ki=ki_slide, kd=kd_slide)"
   ]
  },
  {
   "cell_type": "code",
   "execution_count": null,
   "id": "5cc20eee-4c86-4635-81ac-80f6ed711613",
   "metadata": {},
   "outputs": [],
   "source": []
  },
  {
   "cell_type": "code",
   "execution_count": null,
   "id": "eb89c594-f49a-45c4-a993-3283d31b5553",
   "metadata": {},
   "outputs": [],
   "source": []
  },
  {
   "cell_type": "code",
   "execution_count": null,
   "id": "e8f6e9b1-cb3d-4bc2-81f7-33988fdc71ba",
   "metadata": {},
   "outputs": [],
   "source": []
  }
 ],
 "metadata": {
  "kernelspec": {
   "display_name": "Python 3 (ipykernel)",
   "language": "python",
   "name": "python3"
  },
  "language_info": {
   "codemirror_mode": {
    "name": "ipython",
    "version": 3
   },
   "file_extension": ".py",
   "mimetype": "text/x-python",
   "name": "python",
   "nbconvert_exporter": "python",
   "pygments_lexer": "ipython3",
   "version": "3.9.6"
  }
 },
 "nbformat": 4,
 "nbformat_minor": 5
}
